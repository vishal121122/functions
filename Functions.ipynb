{
  "nbformat": 4,
  "nbformat_minor": 0,
  "metadata": {
    "colab": {
      "provenance": []
    },
    "kernelspec": {
      "name": "python3",
      "display_name": "Python 3"
    },
    "language_info": {
      "name": "python"
    }
  },
  "cells": [
    {
      "cell_type": "markdown",
      "source": [
        "#Theory questions:"
      ],
      "metadata": {
        "id": "Bc212TyXgEiE"
      }
    },
    {
      "cell_type": "markdown",
      "source": [
        "1. What is the difference butween a function and a method in python?\n",
        "\n",
        "ans. a funcation is a block of code that runs when called. it is independent and a method is a function inside a class that oprates on the object of the class.\n",
        "\n",
        "example."
      ],
      "metadata": {
        "id": "Wf1CrYcggf8W"
      }
    },
    {
      "cell_type": "code",
      "source": [
        "def func():\n",
        "    print(\"I am a function\")\n",
        "\n",
        "class MyClass:\n",
        "    def method(self):\n",
        "        print(\"I am a method\")"
      ],
      "metadata": {
        "id": "_LsavfGkik1l"
      },
      "execution_count": 4,
      "outputs": []
    },
    {
      "cell_type": "markdown",
      "source": [
        "2. Explain the concept of function arguments and parameters in Python.\n",
        "\n",
        "Ans. Parameters are placeholders in function definitions and Arguments are actual values passed when calling a function.\n",
        "\n",
        "Example."
      ],
      "metadata": {
        "id": "dtxNGGD2i-LN"
      }
    },
    {
      "cell_type": "code",
      "source": [
        "def greet(name):\n",
        "    print(\"Hello\", name)\n",
        "\n",
        "greet(\"Alice\")"
      ],
      "metadata": {
        "colab": {
          "base_uri": "https://localhost:8080/"
        },
        "id": "DIIjyESJjo0Y",
        "outputId": "44a16d1c-b9bd-4d7c-a748-68350f002106"
      },
      "execution_count": 5,
      "outputs": [
        {
          "output_type": "stream",
          "name": "stdout",
          "text": [
            "Hello Alice\n"
          ]
        }
      ]
    },
    {
      "cell_type": "markdown",
      "source": [
        "3. What are the different ways to define and call a function in Python?\n",
        "\n",
        "Ans. we have many different ways to define and call a function in python\n",
        "\n",
        "Example."
      ],
      "metadata": {
        "id": "qkg1gOoMjwyG"
      }
    },
    {
      "cell_type": "markdown",
      "source": [],
      "metadata": {
        "id": "7cbd7wbDmhjK"
      }
    },
    {
      "cell_type": "code",
      "source": [
        "#using def:\n",
        "\n",
        "def add(a, b):\n",
        "    return a + b\n",
        "print(add(2, 3))"
      ],
      "metadata": {
        "colab": {
          "base_uri": "https://localhost:8080/"
        },
        "id": "NrltQty8ml6o",
        "outputId": "7ca1ff47-470b-42af-acc3-b05cb7355d41"
      },
      "execution_count": 6,
      "outputs": [
        {
          "output_type": "stream",
          "name": "stdout",
          "text": [
            "5\n"
          ]
        }
      ]
    },
    {
      "cell_type": "code",
      "source": [
        "#using lamda:\n",
        "\n",
        "add = lambda a, b: a + b\n",
        "print(add(2, 3))"
      ],
      "metadata": {
        "colab": {
          "base_uri": "https://localhost:8080/"
        },
        "id": "KwsXyeAum-NZ",
        "outputId": "1f971574-f273-494f-b2cb-95f8c4a26c40"
      },
      "execution_count": 7,
      "outputs": [
        {
          "output_type": "stream",
          "name": "stdout",
          "text": [
            "5\n"
          ]
        }
      ]
    },
    {
      "cell_type": "markdown",
      "source": [
        "4. What is the purpose of the `return` statement in a Python function?\n",
        "\n",
        "Ans. return sends a result from a function.\n",
        "\n",
        "Example."
      ],
      "metadata": {
        "id": "A05ddbVbnJq8"
      }
    },
    {
      "cell_type": "code",
      "source": [
        "def square(num):\n",
        "    return num * num\n",
        "print(square(4))"
      ],
      "metadata": {
        "colab": {
          "base_uri": "https://localhost:8080/"
        },
        "id": "MO2vRbLTn19i",
        "outputId": "bdac3452-ca53-462f-ad19-757a121b4e08"
      },
      "execution_count": 9,
      "outputs": [
        {
          "output_type": "stream",
          "name": "stdout",
          "text": [
            "16\n"
          ]
        }
      ]
    },
    {
      "cell_type": "markdown",
      "source": [
        "5. What are iterators in Python and how do they differ from iterables?\n",
        "\n",
        "Ans. An iterable is a collection (list, tuple,etc) that can be looped over and an iteratoris an object that fetches elements one by one using next().\n",
        "\n",
        "Example."
      ],
      "metadata": {
        "id": "_m79rMzvn_CU"
      }
    },
    {
      "cell_type": "code",
      "source": [
        "my_list = [1, 2, 3]\n",
        "iterator = iter(my_list)\n",
        "print(next(iterator))"
      ],
      "metadata": {
        "colab": {
          "base_uri": "https://localhost:8080/"
        },
        "id": "z7wRbpmRpAMB",
        "outputId": "77261c66-652f-47b1-bfe3-a438ec78ae46"
      },
      "execution_count": 10,
      "outputs": [
        {
          "output_type": "stream",
          "name": "stdout",
          "text": [
            "1\n"
          ]
        }
      ]
    },
    {
      "cell_type": "markdown",
      "source": [],
      "metadata": {
        "id": "Epz5jDnFgDGP"
      }
    },
    {
      "cell_type": "markdown",
      "source": [
        "6. Explain the concept of generators in Python and how they are defined.\n",
        "\n",
        "Ans. Generators produce values one at a time using yield.\n",
        "\n",
        "Example."
      ],
      "metadata": {
        "id": "ARd6Vr4wpLMm"
      }
    },
    {
      "cell_type": "code",
      "source": [
        "def my_gen():\n",
        "    yield 1\n",
        "    yield 2\n",
        "g = my_gen()\n",
        "print(next(g))"
      ],
      "metadata": {
        "colab": {
          "base_uri": "https://localhost:8080/"
        },
        "id": "_q48kKrGph5G",
        "outputId": "1b5e7288-36e7-4d91-f8ea-7825e7c8a444"
      },
      "execution_count": 11,
      "outputs": [
        {
          "output_type": "stream",
          "name": "stdout",
          "text": [
            "1\n"
          ]
        }
      ]
    },
    {
      "cell_type": "markdown",
      "source": [
        "7. What are the advantages of using generators over regular functions?\n",
        "\n",
        "Ans. They save memory because they generate values on demand and They are useful for large datasets."
      ],
      "metadata": {
        "id": "RNbD7ORopqbh"
      }
    },
    {
      "cell_type": "markdown",
      "source": [
        "8. What is a lambda function in Python and when is it typically used?\n",
        "\n",
        "Ans. A lambda function is a short, one-line function without a name. It is used for simple operations and is defined using the lambda keyword.\n",
        "\n",
        "Example."
      ],
      "metadata": {
        "id": "xrnX3DOXqGPG"
      }
    },
    {
      "cell_type": "code",
      "source": [
        "square = lambda x: x * x\n",
        "print(square(5))"
      ],
      "metadata": {
        "colab": {
          "base_uri": "https://localhost:8080/"
        },
        "id": "9So2to5nrT-n",
        "outputId": "bb585150-7dfa-412d-a3a3-97a10792946a"
      },
      "execution_count": 12,
      "outputs": [
        {
          "output_type": "stream",
          "name": "stdout",
          "text": [
            "25\n"
          ]
        }
      ]
    },
    {
      "cell_type": "markdown",
      "source": [
        "9. Explain the purpose and usage of the map() function in Python\n",
        "\n",
        "Ans. The map() function is used to apply a function to each item in an iterable (like a list or tuple) and return a new iterable with the modified values.\n",
        "\n",
        "Example."
      ],
      "metadata": {
        "id": "JMpv0DvwrX8U"
      }
    },
    {
      "cell_type": "code",
      "source": [
        "nums = [1, 2, 3]\n",
        "squared = list(map(lambda x: x*x, nums))\n",
        "print(squared)"
      ],
      "metadata": {
        "colab": {
          "base_uri": "https://localhost:8080/"
        },
        "id": "tPaINOxrr_wC",
        "outputId": "a509dd6f-7a93-4fa6-aeb1-f9255adce472"
      },
      "execution_count": 13,
      "outputs": [
        {
          "output_type": "stream",
          "name": "stdout",
          "text": [
            "[1, 4, 9]\n"
          ]
        }
      ]
    },
    {
      "cell_type": "markdown",
      "source": [
        "10. What is the difference between `map()`, `reduce()`, and `filter()` functions in Python?\n",
        "\n",
        "Ans. map uses for tranceforms each element and filter uses to keep elementsthat much condition and reduse uses for reduse all velues to one result.\n",
        "\n",
        "Example."
      ],
      "metadata": {
        "id": "Ggpl38zLsMLZ"
      }
    },
    {
      "cell_type": "code",
      "source": [
        "from functools import reduce\n",
        "\n",
        "nums = [1, 2, 3, 4]\n",
        "\n",
        "print(list(map(lambda x: x*x, nums)))"
      ],
      "metadata": {
        "colab": {
          "base_uri": "https://localhost:8080/"
        },
        "id": "dUoIVWubtaiQ",
        "outputId": "f5b2a163-c5b0-4315-aacd-febd1dd1e2e7"
      },
      "execution_count": 14,
      "outputs": [
        {
          "output_type": "stream",
          "name": "stdout",
          "text": [
            "[1, 4, 9, 16]\n"
          ]
        }
      ]
    },
    {
      "cell_type": "code",
      "source": [
        "from functools import reduce\n",
        "\n",
        "nums = [1, 2, 3, 4]\n",
        "\n",
        "print(list(filter(lambda x: x % 2 == 0, nums)))"
      ],
      "metadata": {
        "colab": {
          "base_uri": "https://localhost:8080/"
        },
        "id": "97XFEql3tocM",
        "outputId": "7510795b-fbfa-4424-a061-5aa6af0e6237"
      },
      "execution_count": 17,
      "outputs": [
        {
          "output_type": "stream",
          "name": "stdout",
          "text": [
            "[2, 4]\n"
          ]
        }
      ]
    },
    {
      "cell_type": "markdown",
      "source": [],
      "metadata": {
        "id": "J8iVxXI3t16y"
      }
    },
    {
      "cell_type": "code",
      "source": [
        "from functools import reduce\n",
        "\n",
        "nums = [1, 2, 3, 4]\n",
        "\n",
        "print(reduce(lambda x, y: x + y, nums))"
      ],
      "metadata": {
        "colab": {
          "base_uri": "https://localhost:8080/"
        },
        "id": "uZmuY18Ftus9",
        "outputId": "9218e5fc-ec6e-4b1d-cd3e-33692473ad1f"
      },
      "execution_count": 16,
      "outputs": [
        {
          "output_type": "stream",
          "name": "stdout",
          "text": [
            "10\n"
          ]
        }
      ]
    },
    {
      "cell_type": "markdown",
      "source": [
        "11. Using pen & Paper write the internal mechanism for sum operation using  reduce function on this given\n",
        "list:[47,11,42,13];\n",
        "\n",
        "Ans. ![Image 2025-04-01 at 3.15.17 PM.jpeg](data:image/jpeg;base64,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)"
      ],
      "metadata": {
        "id": "CLNjjLQmt5-O"
      }
    },
    {
      "cell_type": "code",
      "source": [
        "# Example\n",
        "\n",
        "from functools import reduce\n",
        "numbers = [47, 11, 42, 13]\n",
        "total = reduce(lambda x, y: x + y, numbers)\n",
        "print(total)"
      ],
      "metadata": {
        "colab": {
          "base_uri": "https://localhost:8080/"
        },
        "id": "zVNRio5AwEwc",
        "outputId": "37ea4ce0-b91e-4042-f250-576a4a8ef0c1"
      },
      "execution_count": 18,
      "outputs": [
        {
          "output_type": "stream",
          "name": "stdout",
          "text": [
            "113\n"
          ]
        }
      ]
    },
    {
      "cell_type": "markdown",
      "source": [
        "#practical questions:\n",
        "\n",
        "1. Write a Python function that takes a list of numbers as input and returns the sum of all even numbers in the list"
      ],
      "metadata": {
        "id": "iMZsLXfGxhYe"
      }
    },
    {
      "cell_type": "code",
      "source": [
        "def sum_even_numbers(lst):\n",
        "    return sum(num for num in lst if num % 2 == 0)\n",
        "\n",
        "print(sum_even_numbers([1, 2, 3, 4, 5, 6]))"
      ],
      "metadata": {
        "colab": {
          "base_uri": "https://localhost:8080/"
        },
        "id": "a9wGlmJkzQik",
        "outputId": "40e40a00-1eb7-4df8-aaf0-d9e4dd152d37"
      },
      "execution_count": 23,
      "outputs": [
        {
          "output_type": "stream",
          "name": "stdout",
          "text": [
            "12\n"
          ]
        }
      ]
    },
    {
      "cell_type": "markdown",
      "source": [
        "2. Create a Python function that accepts a string and returns the reverse of that string."
      ],
      "metadata": {
        "id": "M_KD4iaeyrgt"
      }
    },
    {
      "cell_type": "code",
      "source": [
        "def reverse_string(s):\n",
        "    return s[::-1]\n",
        "\n",
        "print(reverse_string(\"hello\"))"
      ],
      "metadata": {
        "colab": {
          "base_uri": "https://localhost:8080/"
        },
        "id": "kgfoNavBx16-",
        "outputId": "833fb29c-d897-4e4b-b159-62ad00c8a9b5"
      },
      "execution_count": 24,
      "outputs": [
        {
          "output_type": "stream",
          "name": "stdout",
          "text": [
            "olleh\n"
          ]
        }
      ]
    },
    {
      "cell_type": "markdown",
      "source": [
        "3. Implement a Python function that takes a list of integers and returns a new list containing the squares of each numbers"
      ],
      "metadata": {
        "id": "farFwIktzDbY"
      }
    },
    {
      "cell_type": "code",
      "source": [
        "def square_list(lst):\n",
        "    return [num ** 2 for num in lst]\n",
        "\n",
        "print(square_list([1, 2, 3, 4]))"
      ],
      "metadata": {
        "colab": {
          "base_uri": "https://localhost:8080/"
        },
        "id": "dyJ04H6uz0GP",
        "outputId": "66321238-5140-4962-d8ff-af54a2039041"
      },
      "execution_count": 25,
      "outputs": [
        {
          "output_type": "stream",
          "name": "stdout",
          "text": [
            "[1, 4, 9, 16]\n"
          ]
        }
      ]
    },
    {
      "cell_type": "markdown",
      "source": [
        "4. Write a Python function that checks if a given number is prime or not from 1 to 200."
      ],
      "metadata": {
        "id": "ja4NEGRq0CG5"
      }
    },
    {
      "cell_type": "code",
      "source": [
        "def is_prime(n):\n",
        "    if n < 2:\n",
        "        return False\n",
        "    for i in range(2, int(n ** 0.5) + 1):\n",
        "        if n % i == 0:\n",
        "            return False\n",
        "    return True\n",
        "\n",
        "print(is_prime(17))"
      ],
      "metadata": {
        "colab": {
          "base_uri": "https://localhost:8080/"
        },
        "id": "sCs4HOAa0NsW",
        "outputId": "409e1c20-2ff8-4cd0-9e2d-9ee357d73045"
      },
      "execution_count": 26,
      "outputs": [
        {
          "output_type": "stream",
          "name": "stdout",
          "text": [
            "True\n"
          ]
        }
      ]
    },
    {
      "cell_type": "markdown",
      "source": [
        "5. Create an iterator class in Python that generates the Fibonacci sequence up to a specified number of terms."
      ],
      "metadata": {
        "id": "Vri_aPNr0tNY"
      }
    },
    {
      "cell_type": "code",
      "source": [
        "class Fibonacci:\n",
        "    def __init__(self, terms):\n",
        "        self.terms = terms\n",
        "        self.a, self.b = 0, 1\n",
        "        self.count = 0\n",
        "\n",
        "    def __iter__(self):\n",
        "        return self\n",
        "\n",
        "    def __next__(self):\n",
        "        if self.count >= self.terms:\n",
        "            raise StopIteration\n",
        "        self.count += 1\n",
        "        fib = self.a\n",
        "        self.a, self.b = self.b, self.a + self.b\n",
        "        return fib\n",
        "\n",
        "fib_seq = Fibonacci(10)\n",
        "print(list(fib_seq))"
      ],
      "metadata": {
        "colab": {
          "base_uri": "https://localhost:8080/"
        },
        "id": "wzeohJfM0sKt",
        "outputId": "c0c0b809-8a6c-4909-d0a5-ef122f507032"
      },
      "execution_count": 27,
      "outputs": [
        {
          "output_type": "stream",
          "name": "stdout",
          "text": [
            "[0, 1, 1, 2, 3, 5, 8, 13, 21, 34]\n"
          ]
        }
      ]
    },
    {
      "cell_type": "markdown",
      "source": [
        "6. Write a generator function in Python that yields the powers of 2 up to a given exponent."
      ],
      "metadata": {
        "id": "JW15laHT0gKW"
      }
    },
    {
      "cell_type": "code",
      "source": [
        "def powers_of_two(exponent):\n",
        "    for i in range(exponent + 1):\n",
        "        yield 2 ** i\n",
        "\n",
        "print(list(powers_of_two(5)))"
      ],
      "metadata": {
        "colab": {
          "base_uri": "https://localhost:8080/"
        },
        "id": "KbakAY9h1FJv",
        "outputId": "eb9324e5-3e1f-4095-f4c6-9b55f201d75a"
      },
      "execution_count": 28,
      "outputs": [
        {
          "output_type": "stream",
          "name": "stdout",
          "text": [
            "[1, 2, 4, 8, 16, 32]\n"
          ]
        }
      ]
    },
    {
      "cell_type": "markdown",
      "source": [
        "7. Implement a generator function that reads a file line by line and yields each line as a string."
      ],
      "metadata": {
        "id": "ncOj7BXl1Owh"
      }
    },
    {
      "cell_type": "code",
      "source": [
        "def file_reader(file_path):\n",
        "    with open(file_path, 'r') as file:\n",
        "        for line in file:\n",
        "            yield line.strip()"
      ],
      "metadata": {
        "id": "FMk43vT01fUc"
      },
      "execution_count": 32,
      "outputs": []
    },
    {
      "cell_type": "markdown",
      "source": [
        "8. Use a lambda function in Python to sort a list of tuples based on the second element of each tuple."
      ],
      "metadata": {
        "id": "AunqpS5m10I1"
      }
    },
    {
      "cell_type": "code",
      "source": [
        "sort_tuples = lambda lst: sorted(lst, key=lambda x: x[1])\n",
        "\n",
        "\n",
        "data = [(1, 3), (2, 1), (3, 2)]\n",
        "print(sort_tuples(data))"
      ],
      "metadata": {
        "colab": {
          "base_uri": "https://localhost:8080/"
        },
        "id": "WeXlRybl2Apx",
        "outputId": "c9b48112-9e43-4d78-f13e-7ba4d714f519"
      },
      "execution_count": 33,
      "outputs": [
        {
          "output_type": "stream",
          "name": "stdout",
          "text": [
            "[(2, 1), (3, 2), (1, 3)]\n"
          ]
        }
      ]
    },
    {
      "cell_type": "markdown",
      "source": [
        "9. Write a Python program that uses `map()` to convert a list of temperatures from Celsius to Fahrenheit."
      ],
      "metadata": {
        "id": "rlCjIEmU2Htk"
      }
    },
    {
      "cell_type": "code",
      "source": [
        "def celsius_to_fahrenheit(lst):\n",
        "    return list(map(lambda c: (c * 9/5) + 32, lst))\n",
        "\n",
        "print(celsius_to_fahrenheit([0, 100, -40]))"
      ],
      "metadata": {
        "colab": {
          "base_uri": "https://localhost:8080/"
        },
        "id": "mNeVhimG2Rcp",
        "outputId": "ee1aef01-5380-4822-d020-31672cd17aaa"
      },
      "execution_count": 34,
      "outputs": [
        {
          "output_type": "stream",
          "name": "stdout",
          "text": [
            "[32.0, 212.0, -40.0]\n"
          ]
        }
      ]
    },
    {
      "cell_type": "markdown",
      "source": [
        "10. Create a Python program that uses `filter()` to remove all the vowels from a given string."
      ],
      "metadata": {
        "id": "vhCqbsZn2bqQ"
      }
    },
    {
      "cell_type": "code",
      "source": [
        "def remove_vowels(s):\n",
        "    return ''.join(filter(lambda ch: ch.lower() not in 'aeiou', s))\n",
        "\n",
        "print(remove_vowels(\"hello world\"))"
      ],
      "metadata": {
        "colab": {
          "base_uri": "https://localhost:8080/"
        },
        "id": "6B4LR2Uf2mUS",
        "outputId": "fa52cb22-ff3d-4e57-e46c-8e5f2a0577de"
      },
      "execution_count": 35,
      "outputs": [
        {
          "output_type": "stream",
          "name": "stdout",
          "text": [
            "hll wrld\n"
          ]
        }
      ]
    },
    {
      "cell_type": "markdown",
      "source": [
        "11. Write a Python program, which returns a list with 2-tuples. Each tuple consists of the Order Number and the product of the price per item and the quantity. The product should be increased by 10 € if the value of the order is smaller than 100 €.\n",
        "\n",
        ". Write a Python program using lambda and map."
      ],
      "metadata": {
        "id": "d-GxKRsU2uXx"
      }
    },
    {
      "cell_type": "code",
      "source": [
        "\n",
        "orders = [\n",
        "    (34587, \"Learning Python, Mark Lutz\", 4, 40.95),\n",
        "    (98762, \"Programming Python, Mark Lutz\", 5, 56.80),\n",
        "    (77226, \"Head First Python, Paul Barry\", 3, 32.95),\n",
        "    (88112, \"Einführung in Python3, Bernd Klein\", 3, 24.99),\n",
        "]\n",
        "\n",
        "processed_orders = list(map(lambda order:\n",
        "    (order[0], order[2] * order[3] + (10 if order[2] * order[3] < 100 else 0)), orders))\n",
        "\n",
        "print(processed_orders)"
      ],
      "metadata": {
        "colab": {
          "base_uri": "https://localhost:8080/"
        },
        "id": "w3fKh55q33OT",
        "outputId": "0ed6f718-1ef9-4cb9-a5a5-0b44ebdaacc4"
      },
      "execution_count": 36,
      "outputs": [
        {
          "output_type": "stream",
          "name": "stdout",
          "text": [
            "[(34587, 163.8), (98762, 284.0), (77226, 108.85000000000001), (88112, 84.97)]\n"
          ]
        }
      ]
    }
  ]
}